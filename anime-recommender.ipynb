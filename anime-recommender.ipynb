{
 "cells": [
  {
   "cell_type": "markdown",
   "id": "c5ec73e3",
   "metadata": {
    "papermill": {
     "duration": 0.017135,
     "end_time": "2022-06-18T04:33:27.277184",
     "exception": false,
     "start_time": "2022-06-18T04:33:27.260049",
     "status": "completed"
    },
    "pycharm": {
     "name": "#%% md\n"
    },
    "tags": []
   },
   "source": [
    "# Anime Recommender"
   ]
  },
  {
   "cell_type": "code",
   "execution_count": 1,
   "id": "fa92c456",
   "metadata": {
    "execution": {
     "iopub.execute_input": "2022-06-18T04:33:27.385396Z",
     "iopub.status.busy": "2022-06-18T04:33:27.384240Z",
     "iopub.status.idle": "2022-06-18T04:33:28.532209Z",
     "shell.execute_reply": "2022-06-18T04:33:28.531433Z",
     "shell.execute_reply.started": "2022-01-30T02:46:39.161539Z"
    },
    "papermill": {
     "duration": 1.168606,
     "end_time": "2022-06-18T04:33:28.532372",
     "exception": false,
     "start_time": "2022-06-18T04:33:27.363766",
     "status": "completed"
    },
    "pycharm": {
     "name": "#%%\n"
    },
    "tags": []
   },
   "outputs": [],
   "source": [
    "import numpy as np\n",
    "import pandas as pd\n",
    "\n",
    "import warnings\n",
    "\n",
    "from sklearn.feature_extraction.text import TfidfVectorizer, CountVectorizer\n",
    "from sklearn.metrics.pairwise import cosine_similarity\n",
    "\n",
    "warnings.filterwarnings(\"always\")\n",
    "warnings.filterwarnings(\"ignore\")"
   ]
  },
  {
   "cell_type": "code",
   "execution_count": 2,
   "id": "14b2da9c",
   "metadata": {
    "execution": {
     "iopub.execute_input": "2022-06-18T04:33:28.608290Z",
     "iopub.status.busy": "2022-06-18T04:33:28.607663Z",
     "iopub.status.idle": "2022-06-18T04:33:29.162078Z",
     "shell.execute_reply": "2022-06-18T04:33:29.161393Z",
     "shell.execute_reply.started": "2022-01-30T02:46:46.550031Z"
    },
    "papermill": {
     "duration": 0.578094,
     "end_time": "2022-06-18T04:33:29.162221",
     "exception": false,
     "start_time": "2022-06-18T04:33:28.584127",
     "status": "completed"
    },
    "pycharm": {
     "name": "#%%\n"
    },
    "tags": []
   },
   "outputs": [],
   "source": [
    "anime = pd.read_csv('Anime_data.csv')"
   ]
  },
  {
   "cell_type": "code",
   "execution_count": 3,
   "id": "71f8745d",
   "metadata": {
    "execution": {
     "iopub.execute_input": "2022-06-18T04:33:29.240421Z",
     "iopub.status.busy": "2022-06-18T04:33:29.239399Z",
     "iopub.status.idle": "2022-06-18T04:33:29.253070Z",
     "shell.execute_reply": "2022-06-18T04:33:29.253534Z",
     "shell.execute_reply.started": "2022-01-30T02:46:49.502306Z"
    },
    "papermill": {
     "duration": 0.039379,
     "end_time": "2022-06-18T04:33:29.253696",
     "exception": false,
     "start_time": "2022-06-18T04:33:29.214317",
     "status": "completed"
    },
    "pycharm": {
     "name": "#%%\n"
    },
    "tags": []
   },
   "outputs": [
    {
     "data": {
      "text/html": [
       "<div>\n",
       "<style scoped>\n",
       "    .dataframe tbody tr th:only-of-type {\n",
       "        vertical-align: middle;\n",
       "    }\n",
       "\n",
       "    .dataframe tbody tr th {\n",
       "        vertical-align: top;\n",
       "    }\n",
       "\n",
       "    .dataframe thead th {\n",
       "        text-align: right;\n",
       "    }\n",
       "</style>\n",
       "<table border=\"1\" class=\"dataframe\">\n",
       "  <thead>\n",
       "    <tr style=\"text-align: right;\">\n",
       "      <th></th>\n",
       "      <th>Anime_id</th>\n",
       "      <th>Title</th>\n",
       "      <th>Genre</th>\n",
       "      <th>Synopsis</th>\n",
       "      <th>Type</th>\n",
       "      <th>Producer</th>\n",
       "      <th>Studio</th>\n",
       "      <th>Rating</th>\n",
       "      <th>ScoredBy</th>\n",
       "      <th>Popularity</th>\n",
       "      <th>Members</th>\n",
       "      <th>Episodes</th>\n",
       "      <th>Source</th>\n",
       "      <th>Aired</th>\n",
       "      <th>Link</th>\n",
       "    </tr>\n",
       "  </thead>\n",
       "  <tbody>\n",
       "    <tr>\n",
       "      <th>0</th>\n",
       "      <td>1</td>\n",
       "      <td>Cowboy Bebop</td>\n",
       "      <td>['Action', 'Adventure', 'Comedy', 'Drama', 'Sc...</td>\n",
       "      <td>In the year 2071, humanity has colonized sever...</td>\n",
       "      <td>TV</td>\n",
       "      <td>['Bandai Visual']</td>\n",
       "      <td>['Sunrise']</td>\n",
       "      <td>8.81</td>\n",
       "      <td>363889.0</td>\n",
       "      <td>39.0</td>\n",
       "      <td>704490.0</td>\n",
       "      <td>26.0</td>\n",
       "      <td>Original</td>\n",
       "      <td>Apr 3, 1998 to Apr 24, 1999</td>\n",
       "      <td>https://myanimelist.net/anime/1/Cowboy_Bebop</td>\n",
       "    </tr>\n",
       "    <tr>\n",
       "      <th>1</th>\n",
       "      <td>5</td>\n",
       "      <td>Cowboy Bebop: Tengoku no Tobira</td>\n",
       "      <td>['Action', 'Space', 'Drama', 'Mystery', 'Sci-Fi']</td>\n",
       "      <td>Another day, another bounty—such is the life o...</td>\n",
       "      <td>Movie</td>\n",
       "      <td>['Sunrise', 'Bandai Visual']</td>\n",
       "      <td>['Bones']</td>\n",
       "      <td>8.41</td>\n",
       "      <td>111187.0</td>\n",
       "      <td>475.0</td>\n",
       "      <td>179899.0</td>\n",
       "      <td>1.0</td>\n",
       "      <td>Original</td>\n",
       "      <td>Sep 1, 2001</td>\n",
       "      <td>https://myanimelist.net/anime/5/Cowboy_Bebop__...</td>\n",
       "    </tr>\n",
       "  </tbody>\n",
       "</table>\n",
       "</div>"
      ],
      "text/plain": [
       "   Anime_id                            Title  \\\n",
       "0         1                     Cowboy Bebop   \n",
       "1         5  Cowboy Bebop: Tengoku no Tobira   \n",
       "\n",
       "                                               Genre  \\\n",
       "0  ['Action', 'Adventure', 'Comedy', 'Drama', 'Sc...   \n",
       "1  ['Action', 'Space', 'Drama', 'Mystery', 'Sci-Fi']   \n",
       "\n",
       "                                            Synopsis   Type  \\\n",
       "0  In the year 2071, humanity has colonized sever...     TV   \n",
       "1  Another day, another bounty—such is the life o...  Movie   \n",
       "\n",
       "                       Producer       Studio  Rating  ScoredBy  Popularity  \\\n",
       "0             ['Bandai Visual']  ['Sunrise']    8.81  363889.0        39.0   \n",
       "1  ['Sunrise', 'Bandai Visual']    ['Bones']    8.41  111187.0       475.0   \n",
       "\n",
       "    Members  Episodes    Source                        Aired  \\\n",
       "0  704490.0      26.0  Original  Apr 3, 1998 to Apr 24, 1999   \n",
       "1  179899.0       1.0  Original                  Sep 1, 2001   \n",
       "\n",
       "                                                Link  \n",
       "0       https://myanimelist.net/anime/1/Cowboy_Bebop  \n",
       "1  https://myanimelist.net/anime/5/Cowboy_Bebop__...  "
      ]
     },
     "execution_count": 3,
     "metadata": {},
     "output_type": "execute_result"
    }
   ],
   "source": [
    "anime.head(2)"
   ]
  },
  {
   "cell_type": "code",
   "execution_count": 4,
   "id": "40905fdf",
   "metadata": {
    "execution": {
     "iopub.execute_input": "2022-06-18T04:33:29.301479Z",
     "iopub.status.busy": "2022-06-18T04:33:29.300461Z",
     "iopub.status.idle": "2022-06-18T04:33:29.321508Z",
     "shell.execute_reply": "2022-06-18T04:33:29.320572Z",
     "shell.execute_reply.started": "2022-01-30T02:46:50.828574Z"
    },
    "papermill": {
     "duration": 0.049684,
     "end_time": "2022-06-18T04:33:29.321732",
     "exception": false,
     "start_time": "2022-06-18T04:33:29.272048",
     "status": "completed"
    },
    "pycharm": {
     "name": "#%%\n"
    },
    "tags": []
   },
   "outputs": [
    {
     "name": "stdout",
     "output_type": "stream",
     "text": [
      "<class 'pandas.core.frame.DataFrame'>\n",
      "RangeIndex: 17002 entries, 0 to 17001\n",
      "Data columns (total 15 columns):\n",
      " #   Column      Non-Null Count  Dtype  \n",
      "---  ------      --------------  -----  \n",
      " 0   Anime_id    17002 non-null  int64  \n",
      " 1   Title       17002 non-null  object \n",
      " 2   Genre       14990 non-null  object \n",
      " 3   Synopsis    15583 non-null  object \n",
      " 4   Type        16368 non-null  object \n",
      " 5   Producer    7635 non-null   object \n",
      " 6   Studio      7919 non-null   object \n",
      " 7   Rating      14425 non-null  float64\n",
      " 8   ScoredBy    13227 non-null  float64\n",
      " 9   Popularity  16368 non-null  float64\n",
      " 10  Members     17002 non-null  float64\n",
      " 11  Episodes    14085 non-null  float64\n",
      " 12  Source      15075 non-null  object \n",
      " 13  Aired       16368 non-null  object \n",
      " 14  Link        16368 non-null  object \n",
      "dtypes: float64(5), int64(1), object(9)\n",
      "memory usage: 1.9+ MB\n"
     ]
    }
   ],
   "source": [
    "anime.info()"
   ]
  },
  {
   "cell_type": "code",
   "execution_count": 5,
   "id": "e5a5756f",
   "metadata": {
    "execution": {
     "iopub.execute_input": "2022-06-18T04:33:29.363663Z",
     "iopub.status.busy": "2022-06-18T04:33:29.363054Z",
     "iopub.status.idle": "2022-06-18T04:33:29.369996Z",
     "shell.execute_reply": "2022-06-18T04:33:29.370448Z",
     "shell.execute_reply.started": "2022-01-30T02:46:53.218448Z"
    },
    "papermill": {
     "duration": 0.029984,
     "end_time": "2022-06-18T04:33:29.370638",
     "exception": false,
     "start_time": "2022-06-18T04:33:29.340654",
     "status": "completed"
    },
    "pycharm": {
     "name": "#%%\n"
    },
    "tags": []
   },
   "outputs": [],
   "source": [
    "anime = anime[['Title', 'Genre', 'Synopsis', 'Type']]"
   ]
  },
  {
   "cell_type": "code",
   "execution_count": 6,
   "id": "a6cf71cd",
   "metadata": {
    "execution": {
     "iopub.execute_input": "2022-06-18T04:33:29.597289Z",
     "iopub.status.busy": "2022-06-18T04:33:29.596618Z",
     "iopub.status.idle": "2022-06-18T04:33:29.608419Z",
     "shell.execute_reply": "2022-06-18T04:33:29.609044Z",
     "shell.execute_reply.started": "2022-01-30T02:47:01.444727Z"
    },
    "papermill": {
     "duration": 0.034461,
     "end_time": "2022-06-18T04:33:29.609211",
     "exception": false,
     "start_time": "2022-06-18T04:33:29.574750",
     "status": "completed"
    },
    "pycharm": {
     "name": "#%%\n"
    },
    "tags": []
   },
   "outputs": [
    {
     "data": {
      "text/html": [
       "<div>\n",
       "<style scoped>\n",
       "    .dataframe tbody tr th:only-of-type {\n",
       "        vertical-align: middle;\n",
       "    }\n",
       "\n",
       "    .dataframe tbody tr th {\n",
       "        vertical-align: top;\n",
       "    }\n",
       "\n",
       "    .dataframe thead th {\n",
       "        text-align: right;\n",
       "    }\n",
       "</style>\n",
       "<table border=\"1\" class=\"dataframe\">\n",
       "  <thead>\n",
       "    <tr style=\"text-align: right;\">\n",
       "      <th></th>\n",
       "      <th>Title</th>\n",
       "      <th>Genre</th>\n",
       "      <th>Synopsis</th>\n",
       "      <th>Type</th>\n",
       "    </tr>\n",
       "  </thead>\n",
       "  <tbody>\n",
       "    <tr>\n",
       "      <th>0</th>\n",
       "      <td>Cowboy Bebop</td>\n",
       "      <td>['Action', 'Adventure', 'Comedy', 'Drama', 'Sc...</td>\n",
       "      <td>In the year 2071, humanity has colonized sever...</td>\n",
       "      <td>TV</td>\n",
       "    </tr>\n",
       "    <tr>\n",
       "      <th>1</th>\n",
       "      <td>Cowboy Bebop: Tengoku no Tobira</td>\n",
       "      <td>['Action', 'Space', 'Drama', 'Mystery', 'Sci-Fi']</td>\n",
       "      <td>Another day, another bounty—such is the life o...</td>\n",
       "      <td>Movie</td>\n",
       "    </tr>\n",
       "    <tr>\n",
       "      <th>2</th>\n",
       "      <td>Trigun</td>\n",
       "      <td>['Action', 'Sci-Fi', 'Adventure', 'Comedy', 'D...</td>\n",
       "      <td>Vash the Stampede is the man with a $$60,000,0...</td>\n",
       "      <td>TV</td>\n",
       "    </tr>\n",
       "    <tr>\n",
       "      <th>3</th>\n",
       "      <td>Witch Hunter Robin</td>\n",
       "      <td>['Action', 'Magic', 'Police', 'Supernatural', ...</td>\n",
       "      <td>Witches are individuals with special powers li...</td>\n",
       "      <td>TV</td>\n",
       "    </tr>\n",
       "    <tr>\n",
       "      <th>4</th>\n",
       "      <td>Bouken Ou Beet</td>\n",
       "      <td>['Adventure', 'Fantasy', 'Shounen', 'Supernatu...</td>\n",
       "      <td>It is the dark century and the people are suff...</td>\n",
       "      <td>TV</td>\n",
       "    </tr>\n",
       "    <tr>\n",
       "      <th>...</th>\n",
       "      <td>...</td>\n",
       "      <td>...</td>\n",
       "      <td>...</td>\n",
       "      <td>...</td>\n",
       "    </tr>\n",
       "    <tr>\n",
       "      <th>16997</th>\n",
       "      <td>Sore Ike! Anpanman: Anpanman to Kaizoku Lobster</td>\n",
       "      <td>NaN</td>\n",
       "      <td>NaN</td>\n",
       "      <td>Special</td>\n",
       "    </tr>\n",
       "    <tr>\n",
       "      <th>16998</th>\n",
       "      <td>X Bomber</td>\n",
       "      <td>NaN</td>\n",
       "      <td>NaN</td>\n",
       "      <td>TV</td>\n",
       "    </tr>\n",
       "    <tr>\n",
       "      <th>16999</th>\n",
       "      <td>X Bomber Pilot</td>\n",
       "      <td>NaN</td>\n",
       "      <td>NaN</td>\n",
       "      <td>Special</td>\n",
       "    </tr>\n",
       "    <tr>\n",
       "      <th>17000</th>\n",
       "      <td>Ganko-chan</td>\n",
       "      <td>NaN</td>\n",
       "      <td>NaN</td>\n",
       "      <td>NaN</td>\n",
       "    </tr>\n",
       "    <tr>\n",
       "      <th>17001</th>\n",
       "      <td>Original C-V-P Momoko</td>\n",
       "      <td>NaN</td>\n",
       "      <td>NaN</td>\n",
       "      <td>OVA</td>\n",
       "    </tr>\n",
       "  </tbody>\n",
       "</table>\n",
       "<p>17002 rows × 4 columns</p>\n",
       "</div>"
      ],
      "text/plain": [
       "                                                 Title  \\\n",
       "0                                         Cowboy Bebop   \n",
       "1                      Cowboy Bebop: Tengoku no Tobira   \n",
       "2                                               Trigun   \n",
       "3                                   Witch Hunter Robin   \n",
       "4                                       Bouken Ou Beet   \n",
       "...                                                ...   \n",
       "16997  Sore Ike! Anpanman: Anpanman to Kaizoku Lobster   \n",
       "16998                                         X Bomber   \n",
       "16999                                   X Bomber Pilot   \n",
       "17000                                       Ganko-chan   \n",
       "17001                            Original C-V-P Momoko   \n",
       "\n",
       "                                                   Genre  \\\n",
       "0      ['Action', 'Adventure', 'Comedy', 'Drama', 'Sc...   \n",
       "1      ['Action', 'Space', 'Drama', 'Mystery', 'Sci-Fi']   \n",
       "2      ['Action', 'Sci-Fi', 'Adventure', 'Comedy', 'D...   \n",
       "3      ['Action', 'Magic', 'Police', 'Supernatural', ...   \n",
       "4      ['Adventure', 'Fantasy', 'Shounen', 'Supernatu...   \n",
       "...                                                  ...   \n",
       "16997                                                NaN   \n",
       "16998                                                NaN   \n",
       "16999                                                NaN   \n",
       "17000                                                NaN   \n",
       "17001                                                NaN   \n",
       "\n",
       "                                                Synopsis     Type  \n",
       "0      In the year 2071, humanity has colonized sever...       TV  \n",
       "1      Another day, another bounty—such is the life o...    Movie  \n",
       "2      Vash the Stampede is the man with a $$60,000,0...       TV  \n",
       "3      Witches are individuals with special powers li...       TV  \n",
       "4      It is the dark century and the people are suff...       TV  \n",
       "...                                                  ...      ...  \n",
       "16997                                                NaN  Special  \n",
       "16998                                                NaN       TV  \n",
       "16999                                                NaN  Special  \n",
       "17000                                                NaN      NaN  \n",
       "17001                                                NaN      OVA  \n",
       "\n",
       "[17002 rows x 4 columns]"
      ]
     },
     "execution_count": 6,
     "metadata": {},
     "output_type": "execute_result"
    }
   ],
   "source": [
    "anime_df = anime\n",
    "anime_df"
   ]
  },
  {
   "cell_type": "code",
   "execution_count": 7,
   "id": "abc805eb",
   "metadata": {
    "execution": {
     "iopub.execute_input": "2022-06-18T04:33:29.728043Z",
     "iopub.status.busy": "2022-06-18T04:33:29.727358Z",
     "iopub.status.idle": "2022-06-18T04:33:29.738437Z",
     "shell.execute_reply": "2022-06-18T04:33:29.738917Z",
     "shell.execute_reply.started": "2022-01-30T02:47:21.091624Z"
    },
    "papermill": {
     "duration": 0.032683,
     "end_time": "2022-06-18T04:33:29.739084",
     "exception": false,
     "start_time": "2022-06-18T04:33:29.706401",
     "status": "completed"
    },
    "pycharm": {
     "name": "#%%\n"
    },
    "tags": []
   },
   "outputs": [
    {
     "data": {
      "text/plain": [
       "Genre       2012\n",
       "Synopsis    1419\n",
       "Type         634\n",
       "Title          0\n",
       "dtype: int64"
      ]
     },
     "execution_count": 7,
     "metadata": {},
     "output_type": "execute_result"
    }
   ],
   "source": [
    "anime_df.isnull().sum().sort_values(ascending=False)"
   ]
  },
  {
   "cell_type": "code",
   "execution_count": 8,
   "id": "cac4a833",
   "metadata": {
    "execution": {
     "iopub.execute_input": "2022-06-18T04:33:29.780327Z",
     "iopub.status.busy": "2022-06-18T04:33:29.779606Z",
     "iopub.status.idle": "2022-06-18T04:33:29.800242Z",
     "shell.execute_reply": "2022-06-18T04:33:29.800817Z",
     "shell.execute_reply.started": "2022-01-30T02:47:23.825615Z"
    },
    "papermill": {
     "duration": 0.043229,
     "end_time": "2022-06-18T04:33:29.801001",
     "exception": false,
     "start_time": "2022-06-18T04:33:29.757772",
     "status": "completed"
    },
    "pycharm": {
     "name": "#%%\n"
    },
    "tags": []
   },
   "outputs": [
    {
     "name": "stdout",
     "output_type": "stream",
     "text": [
      "No synopsis has been added for this series yet. \r\n",
      " \r\n",
      " Click here  to update this information.\n",
      "TV\n"
     ]
    }
   ],
   "source": [
    "print(anime_df['Synopsis'].mode()[0])\n",
    "print(anime_df['Type'].mode()[0])"
   ]
  },
  {
   "cell_type": "code",
   "execution_count": 9,
   "id": "1269c987",
   "metadata": {
    "execution": {
     "iopub.execute_input": "2022-06-18T04:33:29.881721Z",
     "iopub.status.busy": "2022-06-18T04:33:29.881077Z",
     "iopub.status.idle": "2022-06-18T04:33:29.903262Z",
     "shell.execute_reply": "2022-06-18T04:33:29.902307Z",
     "shell.execute_reply.started": "2022-01-30T02:47:32.890577Z"
    },
    "papermill": {
     "duration": 0.044993,
     "end_time": "2022-06-18T04:33:29.903430",
     "exception": false,
     "start_time": "2022-06-18T04:33:29.858437",
     "status": "completed"
    },
    "pycharm": {
     "name": "#%%\n"
    },
    "tags": []
   },
   "outputs": [],
   "source": [
    "anime_df['Synopsis'] = anime_df['Synopsis'].fillna(\n",
    "    anime_df['Synopsis'].dropna().mode().values[0]\n",
    ")\n",
    "anime_df['Type'] = anime_df['Type'].fillna(\n",
    "    anime_df['Type'].dropna().mode().values[0]\n",
    ")\n",
    "anime_df['Genre'] = anime_df['Genre'].fillna(\n",
    "    anime_df['Genre'].dropna().mode().values[0]\n",
    ")"
   ]
  },
  {
   "cell_type": "code",
   "execution_count": 10,
   "id": "7614a240",
   "metadata": {
    "execution": {
     "iopub.execute_input": "2022-06-18T04:33:29.985866Z",
     "iopub.status.busy": "2022-06-18T04:33:29.985167Z",
     "iopub.status.idle": "2022-06-18T04:33:29.998063Z",
     "shell.execute_reply": "2022-06-18T04:33:29.998511Z",
     "shell.execute_reply.started": "2022-01-30T02:47:36.31207Z"
    },
    "papermill": {
     "duration": 0.037505,
     "end_time": "2022-06-18T04:33:29.998708",
     "exception": false,
     "start_time": "2022-06-18T04:33:29.961203",
     "status": "completed"
    },
    "pycharm": {
     "name": "#%%\n"
    },
    "tags": []
   },
   "outputs": [
    {
     "data": {
      "text/plain": [
       "Title       0\n",
       "Genre       0\n",
       "Synopsis    0\n",
       "Type        0\n",
       "dtype: int64"
      ]
     },
     "execution_count": 10,
     "metadata": {},
     "output_type": "execute_result"
    }
   ],
   "source": [
    "anime_df.isnull().sum()"
   ]
  },
  {
   "cell_type": "code",
   "execution_count": 11,
   "id": "f56cda74",
   "metadata": {
    "execution": {
     "iopub.execute_input": "2022-06-18T04:33:30.085454Z",
     "iopub.status.busy": "2022-06-18T04:33:30.084738Z",
     "iopub.status.idle": "2022-06-18T04:33:30.092158Z",
     "shell.execute_reply": "2022-06-18T04:33:30.091624Z",
     "shell.execute_reply.started": "2022-01-30T02:48:25.466671Z"
    },
    "papermill": {
     "duration": 0.03125,
     "end_time": "2022-06-18T04:33:30.092299",
     "exception": false,
     "start_time": "2022-06-18T04:33:30.061049",
     "status": "completed"
    },
    "pycharm": {
     "name": "#%%\n"
    },
    "tags": []
   },
   "outputs": [],
   "source": [
    "anime_df = anime_df[anime_df['Type']=='TV']"
   ]
  },
  {
   "cell_type": "code",
   "execution_count": 12,
   "id": "6f61fb4a",
   "metadata": {
    "execution": {
     "iopub.execute_input": "2022-06-18T04:33:30.135496Z",
     "iopub.status.busy": "2022-06-18T04:33:30.134871Z",
     "iopub.status.idle": "2022-06-18T04:33:30.140038Z",
     "shell.execute_reply": "2022-06-18T04:33:30.140459Z",
     "shell.execute_reply.started": "2022-01-30T02:49:06.277989Z"
    },
    "papermill": {
     "duration": 0.028364,
     "end_time": "2022-06-18T04:33:30.140642",
     "exception": false,
     "start_time": "2022-06-18T04:33:30.112278",
     "status": "completed"
    },
    "pycharm": {
     "name": "#%%\n"
    },
    "tags": []
   },
   "outputs": [],
   "source": [
    "anime_df.drop('Type', axis=1, inplace=True)"
   ]
  },
  {
   "cell_type": "code",
   "execution_count": 13,
   "id": "6e890c98",
   "metadata": {
    "execution": {
     "iopub.execute_input": "2022-06-18T04:33:30.224270Z",
     "iopub.status.busy": "2022-06-18T04:33:30.221645Z",
     "iopub.status.idle": "2022-06-18T04:33:30.226412Z",
     "shell.execute_reply": "2022-06-18T04:33:30.227027Z",
     "shell.execute_reply.started": "2022-01-30T02:49:13.460975Z"
    },
    "papermill": {
     "duration": 0.027232,
     "end_time": "2022-06-18T04:33:30.227195",
     "exception": false,
     "start_time": "2022-06-18T04:33:30.199963",
     "status": "completed"
    },
    "pycharm": {
     "name": "#%%\n"
    },
    "tags": []
   },
   "outputs": [],
   "source": [
    "indices = pd.Series(anime_df.index, index = anime_df['Title'])"
   ]
  },
  {
   "cell_type": "code",
   "execution_count": 14,
   "id": "6db1b8c1",
   "metadata": {
    "execution": {
     "iopub.execute_input": "2022-06-18T04:33:30.271833Z",
     "iopub.status.busy": "2022-06-18T04:33:30.270958Z",
     "iopub.status.idle": "2022-06-18T04:33:30.273407Z",
     "shell.execute_reply": "2022-06-18T04:33:30.273996Z",
     "shell.execute_reply.started": "2022-01-30T02:49:15.055942Z"
    },
    "papermill": {
     "duration": 0.027272,
     "end_time": "2022-06-18T04:33:30.274171",
     "exception": false,
     "start_time": "2022-06-18T04:33:30.246899",
     "status": "completed"
    },
    "pycharm": {
     "name": "#%%\n"
    },
    "tags": []
   },
   "outputs": [],
   "source": [
    "tfidf = TfidfVectorizer(stop_words='english')\n",
    "tfidf2 = TfidfVectorizer(stop_words='english')\n",
    "count = CountVectorizer(stop_words='english')"
   ]
  },
  {
   "cell_type": "code",
   "execution_count": 15,
   "id": "60cc97e2",
   "metadata": {
    "execution": {
     "iopub.execute_input": "2022-06-18T04:33:30.317737Z",
     "iopub.status.busy": "2022-06-18T04:33:30.316771Z",
     "iopub.status.idle": "2022-06-18T04:33:31.138766Z",
     "shell.execute_reply": "2022-06-18T04:33:31.138205Z",
     "shell.execute_reply.started": "2022-01-30T02:49:16.625911Z"
    },
    "papermill": {
     "duration": 0.845117,
     "end_time": "2022-06-18T04:33:31.138957",
     "exception": false,
     "start_time": "2022-06-18T04:33:30.293840",
     "status": "completed"
    },
    "pycharm": {
     "name": "#%%\n"
    },
    "tags": []
   },
   "outputs": [
    {
     "name": "stdout",
     "output_type": "stream",
     "text": [
      "2.382981300354004\n"
     ]
    }
   ],
   "source": [
    "import time\n",
    "start=time.time()\n",
    "tfidf_matrix = tfidf.fit_transform(anime_df['Title'])\n",
    "count_matrix = count.fit_transform(anime_df['Genre'])\n",
    "tfidf2_matrix = tfidf2.fit_transform(anime_df['Synopsis'])\n",
    "end=time.time()\n",
    "print(end-start)"
   ]
  },
  {
   "cell_type": "code",
   "execution_count": 16,
   "id": "685acd94",
   "metadata": {
    "execution": {
     "iopub.execute_input": "2022-06-18T04:33:31.193954Z",
     "iopub.status.busy": "2022-06-18T04:33:31.193279Z",
     "iopub.status.idle": "2022-06-18T04:33:37.188775Z",
     "shell.execute_reply": "2022-06-18T04:33:37.188138Z",
     "shell.execute_reply.started": "2022-01-30T02:49:20.262259Z"
    },
    "papermill": {
     "duration": 6.019382,
     "end_time": "2022-06-18T04:33:37.188971",
     "exception": false,
     "start_time": "2022-06-18T04:33:31.169589",
     "status": "completed"
    },
    "pycharm": {
     "name": "#%%\n"
    },
    "tags": []
   },
   "outputs": [
    {
     "name": "stdout",
     "output_type": "stream",
     "text": [
      "2.7610018253326416\n"
     ]
    }
   ],
   "source": [
    "import time\n",
    "start=time.time()\n",
    "name_similarity = cosine_similarity(tfidf_matrix)\n",
    "genre_similarity = cosine_similarity(count_matrix)\n",
    "synopsis_similarity = cosine_similarity(tfidf2_matrix)\n",
    "end=time.time()\n",
    "print(end-start)"
   ]
  },
  {
   "cell_type": "code",
   "execution_count": 17,
   "id": "4248a9b4",
   "metadata": {
    "execution": {
     "iopub.execute_input": "2022-06-18T04:33:37.276118Z",
     "iopub.status.busy": "2022-06-18T04:33:37.275509Z",
     "iopub.status.idle": "2022-06-18T04:33:37.278335Z",
     "shell.execute_reply": "2022-06-18T04:33:37.277914Z",
     "shell.execute_reply.started": "2022-01-30T02:50:41.738799Z"
    },
    "papermill": {
     "duration": 0.031061,
     "end_time": "2022-06-18T04:33:37.278507",
     "exception": false,
     "start_time": "2022-06-18T04:33:37.247446",
     "status": "completed"
    },
    "pycharm": {
     "name": "#%%\n"
    },
    "tags": []
   },
   "outputs": [],
   "source": [
    "def get_recommendations(_anime):\n",
    "    i = indices[_anime]\n",
    "    \n",
    "    name_score = list(enumerate(name_similarity[i]))\n",
    "    genre_score = list(enumerate(genre_similarity[i]))\n",
    "    synopsis_score = list(enumerate(synopsis_similarity[i]))\n",
    "    \n",
    "    name_score = sorted(name_score, key = lambda x: x[0])\n",
    "    genre_score = sorted(genre_score, key = lambda x: x[0])\n",
    "    synopsis_score = sorted(synopsis_score, key = lambda x: x[0])\n",
    "    \n",
    "    combined_score = [(i, (sc_1 + sc_2 + sc_3) / 3) for (i, sc_1), (_, sc_2), (_, sc_3) in zip(name_score, genre_score, synopsis_score)]\n",
    "    \n",
    "    combined_score = sorted(combined_score, key = lambda x: x[1], reverse = True)\n",
    "    \n",
    "    anime_recs = []\n",
    "    \n",
    "    index = 0\n",
    "    while len(anime_recs) != 10:\n",
    "        anime_id = combined_score[1:][index][0]\n",
    "        index += 1\n",
    "        if _anime in indices.iloc[[anime_id]].index[0]:\n",
    "            continue\n",
    "        else:\n",
    "            anime_recs.append(indices.iloc[[anime_id]].index[0])\n",
    "    \n",
    "    \n",
    "    print(f'If you liked {_anime}, you should try:')\n",
    "    for i, v in list(enumerate(anime_recs)):\n",
    "        print(f'{i + 1}. {v}')"
   ]
  },
  {
   "cell_type": "code",
   "execution_count": 18,
   "id": "af2a0631",
   "metadata": {
    "pycharm": {
     "name": "#%%\n"
    }
   },
   "outputs": [
    {
     "name": "stdout",
     "output_type": "stream",
     "text": [
      "If you liked Dragon Ball, you should try:\n",
      "1. Seikai no Monshou\n",
      "2. Seikai no Senki\n",
      "3. Uchuu no Stellvia\n",
      "4. Ginga Eiyuu Densetsu: Die Neue These - Kaikou\n",
      "5. AWOL\n",
      "6. Mobile Suit Gundam SEED\n",
      "7. Macross\n",
      "8. Mobile Suit Gundam\n",
      "9. Mobile Suit Gundam SEED Destiny\n",
      "10. Macross F\n",
      "0.12200427055358887\n"
     ]
    }
   ],
   "source": [
    "import time\n",
    "start=time.time()\n",
    "get_recommendations('Dragon Ball')\n",
    "end=time.time()\n",
    "print(end-start)"
   ]
  },
  {
   "cell_type": "code",
   "execution_count": 20,
   "id": "9022c605",
   "metadata": {
    "pycharm": {
     "name": "#%%\n"
    }
   },
   "outputs": [],
   "source": []
  },
  {
   "cell_type": "code",
   "execution_count": null,
   "id": "394a7bdf",
   "metadata": {},
   "outputs": [],
   "source": []
  }
 ],
 "metadata": {
  "kernelspec": {
   "display_name": "Python 3",
   "language": "python",
   "name": "python3"
  },
  "language_info": {
   "codemirror_mode": {
    "name": "ipython",
    "version": 3
   },
   "file_extension": ".py",
   "mimetype": "text/x-python",
   "name": "python",
   "nbconvert_exporter": "python",
   "pygments_lexer": "ipython3",
   "version": "3.9.4"
  },
  "papermill": {
   "default_parameters": {},
   "duration": 20.103003,
   "end_time": "2022-06-18T04:33:38.188017",
   "environment_variables": {},
   "exception": null,
   "input_path": "__notebook__.ipynb",
   "output_path": "__notebook__.ipynb",
   "parameters": {},
   "start_time": "2022-06-18T04:33:18.085014",
   "version": "2.3.3"
  }
 },
 "nbformat": 4,
 "nbformat_minor": 5
}
